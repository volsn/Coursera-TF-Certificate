{
 "cells": [
  {
   "cell_type": "markdown",
   "metadata": {
    "colab_type": "text",
    "id": "iQjHqsmTAVLU"
   },
   "source": [
    "## Exercise 3\n",
    "In the videos you looked at how you would improve Fashion MNIST using Convolutions. For your exercise see if you can improve MNIST to 99.8% accuracy or more using only a single convolutional layer and a single MaxPooling 2D. You should stop training once the accuracy goes above this amount. It should happen in less than 20 epochs, so it's ok to hard code the number of epochs for training, but your training must end once it hits the above metric. If it doesn't, then you'll need to redesign your layers.\n",
    "\n",
    "I've started the code for you -- you need to finish it!\n",
    "\n",
    "When 99.8% accuracy has been hit, you should print out the string \"Reached 99.8% accuracy so cancelling training!\"\n"
   ]
  },
  {
   "cell_type": "code",
   "execution_count": 1,
   "metadata": {},
   "outputs": [],
   "source": [
    "import tensorflow as tf\n",
    "from os import path, getcwd, chdir\n",
    "\n",
    "# DO NOT CHANGE THELINE BELOW. If you are developing in a local\n",
    "# environment, then grab mnist.npz from the Coursera Jupyter Notebook\n",
    "# and place it inside a local folder and edit the path to that location\n",
    "path = f\"{getcwd()}/../tmp2/mnist.npz\""
   ]
  },
  {
   "cell_type": "code",
   "execution_count": 2,
   "metadata": {},
   "outputs": [],
   "source": [
    "config = tf.ConfigProto()\n",
    "config.gpu_options.allow_growth = True\n",
    "sess = tf.Session(config=config)"
   ]
  },
  {
   "cell_type": "code",
   "execution_count": 4,
   "metadata": {},
   "outputs": [],
   "source": [
    "# GRADED FUNCTION: train_mnist_conv\n",
    "def train_mnist_conv():\n",
    "    # Please write your code only where you are indicated.\n",
    "    # please do not remove model fitting inline comments.\n",
    "\n",
    "    # YOUR CODE STARTS HERE\n",
    "    class AccuracyStopCallback(tf.keras.callbacks.Callback):\n",
    "        def __init__(self, acc_rate, *args, **kwargs):\n",
    "            self.acc_rate = acc_rate\n",
    "            super().__init__(*args, **kwargs)\n",
    "            \n",
    "        def on_epoch_end(self, epoch, logs={}):\n",
    "            if (logs.get('acc') > self.acc_rate):\n",
    "                self.model.stop_training = True\n",
    "    accuracy_stop_cb = AccuracyStopCallback(99.8)\n",
    "                \n",
    "    \n",
    "    # YOUR CODE ENDS HERE\n",
    "\n",
    "    mnist = tf.keras.datasets.mnist\n",
    "    (training_images, training_labels), (test_images, test_labels) = mnist.load_data(path=path)\n",
    "    # YOUR CODE STARTS HERE\n",
    "    training_images = training_images.reshape(60000, 28, 28, 1)\n",
    "    training_images = training_images / 255\n",
    "    test_images = test_images.reshape(10000, 28, 28, 1)\n",
    "    test_images = test_images / 255\n",
    "    \n",
    "    \"\"\"\n",
    "    # YOUR CODE ENDS HERE\n",
    "    \"\"\"\n",
    "\n",
    "    model = tf.keras.models.Sequential([\n",
    "        # YOUR CODE STARTS HERE\n",
    "        tf.keras.layers.Conv2D(32, (3, 3), activation='relu', input_shape=(28, 28, 1)),\n",
    "        tf.keras.layers.MaxPooling2D(2, 2),\n",
    "        tf.keras.layers.Conv2D(32, (3, 3), activation='relu'),\n",
    "        tf.keras.layers.MaxPooling2D(2, 2),\n",
    "        tf.keras.layers.Flatten(),\n",
    "        tf.keras.layers.Dense(128, activation='relu'),\n",
    "        tf.keras.layers.Dense(10, activation='sigmoid')\n",
    "        # YOUR CODE ENDS HERE\n",
    "    ])\n",
    "    \n",
    "\n",
    "    model.compile(optimizer='adam', loss='sparse_categorical_crossentropy', metrics=['accuracy'])\n",
    "    # model fitting\n",
    "    history = model.fit(\n",
    "        # YOUR CODE STARTS HERE\n",
    "        training_images, training_labels,\n",
    "        epochs=19,\n",
    "        callbacks=[accuracy_stop_cb,],\n",
    "        # YOUR CODE ENDS HERE\n",
    "    )\n",
    "    # model fitting\n",
    "    return history.epoch, history.history['acc'][-1]"
   ]
  },
  {
   "cell_type": "code",
   "execution_count": 5,
   "metadata": {},
   "outputs": [
    {
     "name": "stderr",
     "output_type": "stream",
     "text": [
      "WARNING: Logging before flag parsing goes to stderr.\n",
      "W1105 16:06:00.723399 140441474819904 deprecation.py:506] From /usr/local/lib/python3.6/dist-packages/tensorflow/python/ops/init_ops.py:1251: calling VarianceScaling.__init__ (from tensorflow.python.ops.init_ops) with dtype is deprecated and will be removed in a future version.\n",
      "Instructions for updating:\n",
      "Call initializer instance with the dtype argument instead of passing it to the constructor\n",
      "W1105 16:06:01.125066 140441474819904 deprecation.py:323] From /usr/local/lib/python3.6/dist-packages/tensorflow/python/ops/math_grad.py:1250: add_dispatch_support.<locals>.wrapper (from tensorflow.python.ops.array_ops) is deprecated and will be removed in a future version.\n",
      "Instructions for updating:\n",
      "Use tf.where in 2.0, which has the same broadcast rule as np.where\n"
     ]
    },
    {
     "name": "stdout",
     "output_type": "stream",
     "text": [
      "Epoch 1/19\n",
      "60000/60000 [==============================] - 17s 292us/sample - loss: 0.1703 - acc: 0.9488\n",
      "Epoch 2/19\n",
      "60000/60000 [==============================] - 14s 230us/sample - loss: 0.0517 - acc: 0.9840 - los\n",
      "Epoch 3/19\n",
      "60000/60000 [==============================] - 14s 236us/sample - loss: 0.0384 - acc: 0.9881\n",
      "Epoch 4/19\n",
      "60000/60000 [==============================] - 14s 230us/sample - loss: 0.0271 - acc: 0.9913\n",
      "Epoch 5/19\n",
      "60000/60000 [==============================] - 14s 230us/sample - loss: 0.0226 - acc: 0.9929 - loss: 0.0220 - acc\n",
      "Epoch 6/19\n",
      "60000/60000 [==============================] - 14s 233us/sample - loss: 0.0167 - acc: 0.9947\n",
      "Epoch 7/19\n",
      "60000/60000 [==============================] - 14s 233us/sample - loss: 0.0136 - acc: 0.9955\n",
      "Epoch 8/19\n",
      "60000/60000 [==============================] - 14s 231us/sample - loss: 0.0114 - acc: 0.9962\n",
      "Epoch 9/19\n",
      "60000/60000 [==============================] - 14s 235us/sample - loss: 0.0095 - acc: 0.9968\n",
      "Epoch 10/19\n",
      "60000/60000 [==============================] - 14s 234us/sample - loss: 0.0078 - acc: 0.9972\n",
      "Epoch 11/19\n",
      "60000/60000 [==============================] - 14s 231us/sample - loss: 0.0075 - acc: 0.9973\n",
      "Epoch 12/19\n",
      "60000/60000 [==============================] - 14s 230us/sample - loss: 0.0063 - acc: 0.9978 - loss: \n",
      "Epoch 13/19\n",
      "60000/60000 [==============================] - 14s 236us/sample - loss: 0.0061 - acc: 0.9978\n",
      "Epoch 14/19\n",
      "60000/60000 [==============================] - 14s 237us/sample - loss: 0.0056 - acc: 0.9982\n",
      "Epoch 15/19\n",
      "60000/60000 [==============================] - 14s 238us/sample - loss: 0.0052 - acc: 0.9983\n",
      "Epoch 16/19\n",
      "60000/60000 [==============================] - 14s 238us/sample - loss: 0.0041 - acc: 0.9986\n",
      "Epoch 17/19\n",
      "60000/60000 [==============================] - 14s 238us/sample - loss: 0.0055 - acc: 0.9983\n",
      "Epoch 18/19\n",
      "60000/60000 [==============================] - 14s 237us/sample - loss: 0.0048 - acc: 0.9985\n",
      "Epoch 19/19\n",
      "60000/60000 [==============================] - 14s 240us/sample - loss: 0.0039 - acc: 0.9987\n"
     ]
    }
   ],
   "source": [
    "_, _ = train_mnist_conv()"
   ]
  },
  {
   "cell_type": "code",
   "execution_count": 11,
   "metadata": {},
   "outputs": [],
   "source": [
    "# Now click the 'Submit Assignment' button above.\n",
    "# Once that is complete, please run the following two cells to save your work and close the notebook"
   ]
  },
  {
   "cell_type": "code",
   "execution_count": 6,
   "metadata": {},
   "outputs": [
    {
     "data": {
      "application/javascript": [
       "<!-- Save the notebook -->\n",
       "IPython.notebook.save_checkpoint();\n"
      ],
      "text/plain": [
       "<IPython.core.display.Javascript object>"
      ]
     },
     "metadata": {},
     "output_type": "display_data"
    }
   ],
   "source": [
    "%%javascript\n",
    "<!-- Save the notebook -->\n",
    "IPython.notebook.save_checkpoint();"
   ]
  },
  {
   "cell_type": "code",
   "execution_count": null,
   "metadata": {},
   "outputs": [
    {
     "data": {
      "application/javascript": [
       "IPython.notebook.session.delete();\n",
       "window.onbeforeunload = null\n",
       "setTimeout(function() { window.close(); }, 1000);\n"
      ],
      "text/plain": [
       "<IPython.core.display.Javascript object>"
      ]
     },
     "metadata": {},
     "output_type": "display_data"
    }
   ],
   "source": [
    "%%javascript\n",
    "IPython.notebook.session.delete();\n",
    "window.onbeforeunload = null\n",
    "setTimeout(function() { window.close(); }, 1000);"
   ]
  },
  {
   "cell_type": "code",
   "execution_count": null,
   "metadata": {},
   "outputs": [],
   "source": []
  }
 ],
 "metadata": {
  "coursera": {
   "course_slug": "introduction-tensorflow",
   "graded_item_id": "ml06H",
   "launcher_item_id": "hQF8A"
  },
  "kernelspec": {
   "display_name": "Python 3",
   "language": "python",
   "name": "python3"
  },
  "language_info": {
   "codemirror_mode": {
    "name": "ipython",
    "version": 3
   },
   "file_extension": ".py",
   "mimetype": "text/x-python",
   "name": "python",
   "nbconvert_exporter": "python",
   "pygments_lexer": "ipython3",
   "version": "3.6.8"
  }
 },
 "nbformat": 4,
 "nbformat_minor": 1
}
